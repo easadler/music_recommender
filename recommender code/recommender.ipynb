{
 "cells": [
  {
   "cell_type": "code",
   "execution_count": 222,
   "metadata": {
    "collapsed": false
   },
   "outputs": [],
   "source": [
    "import numpy as np\n",
    "from scipy import sparse\n",
    "\n",
    "class CollaborativeFilter(object):\n",
    "\n",
    "    def __init__(self, similarity_metric=None, hood_size=None):\n",
    "        self.similarity_metric = similarity_metric\n",
    "\n",
    "    def fit(self, X):\n",
    "        self.X = X\n",
    "        self.pw = self.pairwise_jaccard(X)\n",
    "\n",
    "    def pairwise_jaccard(self, X):\n",
    "        \"\"\"Computes the Jaccard distance between the rows of `X`.\n",
    "        \"\"\"\n",
    "        X = X.astype(bool).astype(int).T\n",
    "\n",
    "        intrsct = X.dot(X.T)\n",
    "        row_sums = intrsct.diagonal()\n",
    "        unions = row_sums[:, None] + row_sums - intrsct\n",
    "        sim = intrsct / unions\n",
    "        return sparse.csr_matrix(sim)\n",
    "\n",
    "    def pred_all(self):\n",
    "        pw = self.pw\n",
    "        ratings_mat = self.X\n",
    "        for u in xrange(ratings_mat.shape[0]): \n",
    "            row = ratings_mat.getrow(u).toarray()[0]\n",
    "            nz = row.nonzero()[0]\n",
    "            z = np.nonzero(row==0)[0]\n",
    "\n",
    "            print 'user: ', u\n",
    "            for i in z:\n",
    "                denominator = pw[i, nz].sum()\n",
    "                numerator = pw[i, nz].dot(ratings_mat[u,nz].T).toarray()[0]\n",
    "                if denominator == 0:\n",
    "                    print i, 0\n",
    "                else:\n",
    "                    print i, float(numerator / denominator)\n"
   ]
  },
  {
   "cell_type": "code",
   "execution_count": 223,
   "metadata": {
    "collapsed": true
   },
   "outputs": [],
   "source": [
    "ratings_mat = sparse.csr_matrix(np.array([[4, 0, 0, 5, 1, 0, 0],\n",
    "                                          [5, 5, 4, 0, 0, 1, 0],\n",
    "                                          [0, 0, 0, 2, 4, 5, 0],\n",
    "                                          [0, 3, 0, 0, 0, 0, 3]]))"
   ]
  },
  {
   "cell_type": "code",
   "execution_count": 224,
   "metadata": {
    "collapsed": false
   },
   "outputs": [],
   "source": [
    "cf = CollaborativeFilter()\n",
    "cf.fit(ratings_mat)"
   ]
  },
  {
   "cell_type": "code",
   "execution_count": 225,
   "metadata": {
    "collapsed": false
   },
   "outputs": [
    {
     "name": "stdout",
     "output_type": "stream",
     "text": [
      "user:  0\n",
      "1 4.0\n",
      "2 4.0\n",
      "5 3.33333333333\n",
      "6 0\n",
      "user:  1\n",
      "3 3.0\n",
      "4 3.0\n",
      "6 5.0\n",
      "user:  2\n",
      "0 3.66666666667\n",
      "1 5.0\n",
      "2 5.0\n",
      "6 0\n",
      "user:  3\n",
      "0 3.0\n",
      "2 3.0\n",
      "3 0\n",
      "4 0\n",
      "5 3.0\n"
     ]
    }
   ],
   "source": [
    "cf.pred_all()"
   ]
  },
  {
   "cell_type": "code",
   "execution_count": 164,
   "metadata": {
    "collapsed": false
   },
   "outputs": [],
   "source": []
  },
  {
   "cell_type": "code",
   "execution_count": 215,
   "metadata": {
    "collapsed": false
   },
   "outputs": [
    {
     "name": "stdout",
     "output_type": "stream",
     "text": [
      "user:  0\n",
      "1 4.0\n",
      "2 4.0\n",
      "5 3.33333333333\n",
      "6 0\n",
      "user:  1\n",
      "3 3.0\n",
      "4 3.0\n",
      "6 5.0\n",
      "user:  2\n",
      "0 3.66666666667\n",
      "1 5.0\n",
      "2 5.0\n",
      "6 0\n",
      "user:  3\n",
      "0 3.0\n",
      "2 3.0\n",
      "3 0\n",
      "4 0\n",
      "5 3.0\n"
     ]
    }
   ],
   "source": [
    "for u in xrange(ratings_mat.shape[0]): \n",
    "    row = ratings_mat.getrow(u).toarray()[0]\n",
    "    nz = row.nonzero()[0]\n",
    "    z = np.nonzero(row==0)[0]\n",
    "    \n",
    "    print 'user: ', u\n",
    "    for i in z:\n",
    "        denominator = pw[i, nz].sum()\n",
    "        numerator = pw[i, nz].dot(ratings_mat[u,nz].T).toarray()[0]\n",
    "        if denominator == 0:\n",
    "            print i, 0\n",
    "        else:\n",
    "            print i, float(numerator / denominator)\n",
    "\n",
    "\n",
    "    "
   ]
  },
  {
   "cell_type": "code",
   "execution_count": null,
   "metadata": {
    "collapsed": true
   },
   "outputs": [],
   "source": []
  }
 ],
 "metadata": {
  "kernelspec": {
   "display_name": "Python 2",
   "language": "python",
   "name": "python2"
  },
  "language_info": {
   "codemirror_mode": {
    "name": "ipython",
    "version": 2
   },
   "file_extension": ".py",
   "mimetype": "text/x-python",
   "name": "python",
   "nbconvert_exporter": "python",
   "pygments_lexer": "ipython2",
   "version": "2.7.10"
  }
 },
 "nbformat": 4,
 "nbformat_minor": 0
}
