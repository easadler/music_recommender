{
 "cells": [
  {
   "cell_type": "code",
   "execution_count": 187,
   "metadata": {
    "collapsed": false
   },
   "outputs": [],
   "source": [
    "import psycopg2 as pg2\n",
    "import pandas as pd\n",
    "import numpy as np\n",
    "import matplotlib.pyplot as plt\n",
    "import sys\n",
    "import re\n",
    "import networkx as nx\n",
    "from collections import Counter, defaultdict\n",
    "from __future__ import division\n",
    "import community\n",
    "import matplotlib.pyplot as plt\n",
    "%matplotlib inline"
   ]
  },
  {
   "cell_type": "code",
   "execution_count": 128,
   "metadata": {
    "collapsed": true
   },
   "outputs": [],
   "source": [
    "# Connect to psql database\n",
    "conn = pg2.connect(dbname='lastfm', user='evansadler', host='/tmp')\n",
    "c = conn.cursor()"
   ]
  },
  {
   "cell_type": "code",
   "execution_count": 129,
   "metadata": {
    "collapsed": true
   },
   "outputs": [],
   "source": [
    "query = 'select * from pairs;'\n",
    "df = pd.read_sql_query(query, conn)\n"
   ]
  },
  {
   "cell_type": "code",
   "execution_count": 230,
   "metadata": {
    "collapsed": false
   },
   "outputs": [
    {
     "data": {
      "text/plain": [
       "count        309\n",
       "artist1    wilco\n",
       "artist2    wilco\n",
       "dtype: object"
      ]
     },
     "execution_count": 230,
     "metadata": {},
     "output_type": "execute_result"
    }
   ],
   "source": [
    "df.max()"
   ]
  },
  {
   "cell_type": "code",
   "execution_count": null,
   "metadata": {
    "collapsed": false
   },
   "outputs": [],
   "source": []
  },
  {
   "cell_type": "code",
   "execution_count": 233,
   "metadata": {
    "collapsed": false
   },
   "outputs": [],
   "source": [
    "df = df.ix[df['count'] < 290,:]"
   ]
  },
  {
   "cell_type": "code",
   "execution_count": 132,
   "metadata": {
    "collapsed": true
   },
   "outputs": [],
   "source": [
    "df['count'] = 333 - df['count']"
   ]
  },
  {
   "cell_type": "code",
   "execution_count": 234,
   "metadata": {
    "collapsed": false
   },
   "outputs": [],
   "source": [
    "subset = df[['artist1', 'artist2','count']]\n",
    "tuples = [tuple(x) for x in subset.values]"
   ]
  },
  {
   "cell_type": "code",
   "execution_count": 235,
   "metadata": {
    "collapsed": false
   },
   "outputs": [],
   "source": [
    "G=nx.Graph()"
   ]
  },
  {
   "cell_type": "code",
   "execution_count": 236,
   "metadata": {
    "collapsed": true
   },
   "outputs": [],
   "source": [
    "G.add_weighted_edges_from(tuples)"
   ]
  },
  {
   "cell_type": "code",
   "execution_count": 237,
   "metadata": {
    "collapsed": true
   },
   "outputs": [],
   "source": [
    "part = community.best_partition(G)\n",
    "values = [part.get(node) for node in G.nodes()]"
   ]
  },
  {
   "cell_type": "code",
   "execution_count": 238,
   "metadata": {
    "collapsed": false
   },
   "outputs": [
    {
     "data": {
      "text/plain": [
       "0.3047853784970323"
      ]
     },
     "execution_count": 238,
     "metadata": {},
     "output_type": "execute_result"
    }
   ],
   "source": [
    "community.modularity(part, G)"
   ]
  },
  {
   "cell_type": "code",
   "execution_count": 241,
   "metadata": {
    "collapsed": false
   },
   "outputs": [
    {
     "data": {
      "text/plain": [
       "defaultdict(list,\n",
       "            {0: ['queen',\n",
       "              'the smiths',\n",
       "              'the beatles',\n",
       "              'gorillaz',\n",
       "              'aphex twin',\n",
       "              'explosions in the sky',\n",
       "              'simon & garfunkel',\n",
       "              'jimi hendrix',\n",
       "              'portishead',\n",
       "              'miles davis',\n",
       "              'the beach boys',\n",
       "              'the magnetic fields',\n",
       "              'billy joel',\n",
       "              'r.e.m.',\n",
       "              'beastie boys',\n",
       "              'the national',\n",
       "              'mgmt',\n",
       "              'wilco',\n",
       "              'the doors',\n",
       "              'the cure',\n",
       "              'bruce springsteen',\n",
       "              'air',\n",
       "              'cake',\n",
       "              'a tribe called quest',\n",
       "              'weezer',\n",
       "              'sublime',\n",
       "              'radiohead',\n",
       "              'ratatat',\n",
       "              'bob marley',\n",
       "              'bjrk',\n",
       "              'ramones',\n",
       "              'girl talk',\n",
       "              'm83',\n",
       "              'm.i.a.',\n",
       "              'boards of canada',\n",
       "              'fleet foxes',\n",
       "              'elton john',\n",
       "              'nick drake',\n",
       "              'tv on the radio',\n",
       "              'they might be giants'],\n",
       "             1: ['of montreal',\n",
       "              'bloc party',\n",
       "              'the flaming lips',\n",
       "              'belle and sebastian',\n",
       "              'sufjan stevens',\n",
       "              'animal collective',\n",
       "              'elliott smith',\n",
       "              'spoon',\n",
       "              'neutral milk hotel',\n",
       "              'bright eyes',\n",
       "              'the postal service',\n",
       "              'arcade fire',\n",
       "              'iron & wine',\n",
       "              'the decemberists',\n",
       "              'modest mouse',\n",
       "              'broken social scene',\n",
       "              'cat power',\n",
       "              'beck',\n",
       "              'feist',\n",
       "              'sigur rs',\n",
       "              'the shins',\n",
       "              'andrew bird'],\n",
       "             2: ['nine inch nails',\n",
       "              'pink floyd',\n",
       "              'coldplay',\n",
       "              'muse',\n",
       "              'linkin park',\n",
       "              'nirvana',\n",
       "              'the smashing pumpkins',\n",
       "              'incubus',\n",
       "              'red hot chili peppers',\n",
       "              'a perfect circle',\n",
       "              'regina spektor',\n",
       "              'snow patrol',\n",
       "              'blink-182',\n",
       "              'tool',\n",
       "              'foo fighters',\n",
       "              'kings of leon',\n",
       "              'jack johnson',\n",
       "              'the killers',\n",
       "              'john mayer'],\n",
       "             3: ['death cab for cutie',\n",
       "              'the strokes',\n",
       "              'justice',\n",
       "              'green day',\n",
       "              'stars',\n",
       "              'dashboard confessional',\n",
       "              'taking back sunday',\n",
       "              'fall out boy',\n",
       "              'daft punk',\n",
       "              'rilo kiley',\n",
       "              'vampire weekend',\n",
       "              'beirut',\n",
       "              'brand new',\n",
       "              'tegan and sara',\n",
       "              'jimmy eat world',\n",
       "              'interpol'],\n",
       "             4: ['bob dylan',\n",
       "              'sonic youth',\n",
       "              'u2',\n",
       "              'the rolling stones',\n",
       "              'ac/dc',\n",
       "              'the clash',\n",
       "              'pavement',\n",
       "              'johnny cash',\n",
       "              'the who',\n",
       "              'tom waits',\n",
       "              'the kinks',\n",
       "              'pixies',\n",
       "              'talking heads',\n",
       "              'neil young',\n",
       "              'david bowie',\n",
       "              'led zeppelin',\n",
       "              'the white stripes',\n",
       "              'the velvet underground'],\n",
       "             5: ['kanye west',\n",
       "              'common',\n",
       "              'jay-z',\n",
       "              'nas',\n",
       "              'lil wayne',\n",
       "              't.i.',\n",
       "              'eminem',\n",
       "              'lupe fiasco']})"
      ]
     },
     "execution_count": 241,
     "metadata": {},
     "output_type": "execute_result"
    }
   ],
   "source": [
    "new_dict"
   ]
  },
  {
   "cell_type": "code",
   "execution_count": 240,
   "metadata": {
    "collapsed": false
   },
   "outputs": [],
   "source": [
    "new_dict = defaultdict(list)\n",
    "for k, v in part.iteritems():\n",
    "    new_dict[v].append(k)"
   ]
  },
  {
   "cell_type": "code",
   "execution_count": 239,
   "metadata": {
    "collapsed": false
   },
   "outputs": [
    {
     "data": {
      "image/png": "[encoded data removed]",
      "text/plain": [
       "<matplotlib.figure.Figure at 0x114151890>"
      ]
     },
     "metadata": {},
     "output_type": "display_data"
    }
   ],
   "source": [
    "nx.draw_networkx(G, cmap = plt.get_cmap('jet'), node_color = values, node_size=15, width=1, with_labels=False, alpha=0.4)\n",
    "plt.show()"
   ]
  },
  {
   "cell_type": "code",
   "execution_count": 242,
   "metadata": {
    "collapsed": false
   },
   "outputs": [],
   "source": [
    "dc = nx.degree_centrality(G)"
   ]
  },
  {
   "cell_type": "code",
   "execution_count": 243,
   "metadata": {
    "collapsed": false
   },
   "outputs": [],
   "source": [
    "df_dc = pd.DataFrame(dc.values(), index = dc.keys())"
   ]
  },
  {
   "cell_type": "code",
   "execution_count": 244,
   "metadata": {
    "collapsed": false
   },
   "outputs": [
    {
     "data": {
      "text/html": [
       "<div style=\"max-height:1000px;max-width:1500px;overflow:auto;\">\n",
       "<table border=\"1\" class=\"dataframe\">\n",
       "  <thead>\n",
       "    <tr style=\"text-align: right;\">\n",
       "      <th></th>\n",
       "      <th>0</th>\n",
       "    </tr>\n",
       "  </thead>\n",
       "  <tbody>\n",
       "    <tr>\n",
       "      <th>the beatles</th>\n",
       "      <td>0.762295</td>\n",
       "    </tr>\n",
       "    <tr>\n",
       "      <th>radiohead</th>\n",
       "      <td>0.672131</td>\n",
       "    </tr>\n",
       "    <tr>\n",
       "      <th>death cab for cutie</th>\n",
       "      <td>0.426230</td>\n",
       "    </tr>\n",
       "    <tr>\n",
       "      <th>beck</th>\n",
       "      <td>0.278689</td>\n",
       "    </tr>\n",
       "    <tr>\n",
       "      <th>coldplay</th>\n",
       "      <td>0.254098</td>\n",
       "    </tr>\n",
       "    <tr>\n",
       "      <th>modest mouse</th>\n",
       "      <td>0.254098</td>\n",
       "    </tr>\n",
       "    <tr>\n",
       "      <th>sufjan stevens</th>\n",
       "      <td>0.221311</td>\n",
       "    </tr>\n",
       "    <tr>\n",
       "      <th>the shins</th>\n",
       "      <td>0.204918</td>\n",
       "    </tr>\n",
       "    <tr>\n",
       "      <th>bob dylan</th>\n",
       "      <td>0.188525</td>\n",
       "    </tr>\n",
       "    <tr>\n",
       "      <th>iron &amp; wine</th>\n",
       "      <td>0.122951</td>\n",
       "    </tr>\n",
       "  </tbody>\n",
       "</table>\n",
       "</div>"
      ],
      "text/plain": [
       "                            0\n",
       "the beatles          0.762295\n",
       "radiohead            0.672131\n",
       "death cab for cutie  0.426230\n",
       "beck                 0.278689\n",
       "coldplay             0.254098\n",
       "modest mouse         0.254098\n",
       "sufjan stevens       0.221311\n",
       "the shins            0.204918\n",
       "bob dylan            0.188525\n",
       "iron & wine          0.122951"
      ]
     },
     "execution_count": 244,
     "metadata": {},
     "output_type": "execute_result"
    }
   ],
   "source": [
    "df_dc.sort(0, ascending = False).head(10)"
   ]
  },
  {
   "cell_type": "code",
   "execution_count": 245,
   "metadata": {
    "collapsed": true
   },
   "outputs": [],
   "source": [
    "bc = nx.betweenness_centrality(G, weight = 'weight')\n",
    "df_bc = pd.DataFrame(bc.values(), index = bc.keys())"
   ]
  },
  {
   "cell_type": "code",
   "execution_count": 246,
   "metadata": {
    "collapsed": false
   },
   "outputs": [
    {
     "data": {
      "text/html": [
       "<div style=\"max-height:1000px;max-width:1500px;overflow:auto;\">\n",
       "<table border=\"1\" class=\"dataframe\">\n",
       "  <thead>\n",
       "    <tr style=\"text-align: right;\">\n",
       "      <th></th>\n",
       "      <th>0</th>\n",
       "    </tr>\n",
       "  </thead>\n",
       "  <tbody>\n",
       "    <tr>\n",
       "      <th>the beatles</th>\n",
       "      <td>0.554261</td>\n",
       "    </tr>\n",
       "    <tr>\n",
       "      <th>radiohead</th>\n",
       "      <td>0.348530</td>\n",
       "    </tr>\n",
       "    <tr>\n",
       "      <th>death cab for cutie</th>\n",
       "      <td>0.132841</td>\n",
       "    </tr>\n",
       "    <tr>\n",
       "      <th>kanye west</th>\n",
       "      <td>0.096328</td>\n",
       "    </tr>\n",
       "    <tr>\n",
       "      <th>coldplay</th>\n",
       "      <td>0.020729</td>\n",
       "    </tr>\n",
       "    <tr>\n",
       "      <th>led zeppelin</th>\n",
       "      <td>0.016393</td>\n",
       "    </tr>\n",
       "    <tr>\n",
       "      <th>daft punk</th>\n",
       "      <td>0.016393</td>\n",
       "    </tr>\n",
       "    <tr>\n",
       "      <th>tool</th>\n",
       "      <td>0.016393</td>\n",
       "    </tr>\n",
       "    <tr>\n",
       "      <th>nirvana</th>\n",
       "      <td>0.000000</td>\n",
       "    </tr>\n",
       "    <tr>\n",
       "      <th>a perfect circle</th>\n",
       "      <td>0.000000</td>\n",
       "    </tr>\n",
       "  </tbody>\n",
       "</table>\n",
       "</div>"
      ],
      "text/plain": [
       "                            0\n",
       "the beatles          0.554261\n",
       "radiohead            0.348530\n",
       "death cab for cutie  0.132841\n",
       "kanye west           0.096328\n",
       "coldplay             0.020729\n",
       "led zeppelin         0.016393\n",
       "daft punk            0.016393\n",
       "tool                 0.016393\n",
       "nirvana              0.000000\n",
       "a perfect circle     0.000000"
      ]
     },
     "execution_count": 246,
     "metadata": {},
     "output_type": "execute_result"
    }
   ],
   "source": [
    "df_bc.sort(0, ascending=False).head(10)"
   ]
  },
  {
   "cell_type": "code",
   "execution_count": 247,
   "metadata": {
    "collapsed": true
   },
   "outputs": [],
   "source": [
    "ec = nx.eigenvector_centrality(G, weight = 'weight')\n",
    "df_ec = pd.DataFrame(ec.values(), index = ec.keys())"
   ]
  },
  {
   "cell_type": "code",
   "execution_count": 248,
   "metadata": {
    "collapsed": false
   },
   "outputs": [
    {
     "data": {
      "text/html": [
       "<div style=\"max-height:1000px;max-width:1500px;overflow:auto;\">\n",
       "<table border=\"1\" class=\"dataframe\">\n",
       "  <thead>\n",
       "    <tr style=\"text-align: right;\">\n",
       "      <th></th>\n",
       "      <th>0</th>\n",
       "    </tr>\n",
       "  </thead>\n",
       "  <tbody>\n",
       "    <tr>\n",
       "      <th>the beatles</th>\n",
       "      <td>0.339517</td>\n",
       "    </tr>\n",
       "    <tr>\n",
       "      <th>radiohead</th>\n",
       "      <td>0.327914</td>\n",
       "    </tr>\n",
       "    <tr>\n",
       "      <th>death cab for cutie</th>\n",
       "      <td>0.267391</td>\n",
       "    </tr>\n",
       "    <tr>\n",
       "      <th>beck</th>\n",
       "      <td>0.232970</td>\n",
       "    </tr>\n",
       "    <tr>\n",
       "      <th>modest mouse</th>\n",
       "      <td>0.226551</td>\n",
       "    </tr>\n",
       "    <tr>\n",
       "      <th>sufjan stevens</th>\n",
       "      <td>0.209068</td>\n",
       "    </tr>\n",
       "    <tr>\n",
       "      <th>the shins</th>\n",
       "      <td>0.207249</td>\n",
       "    </tr>\n",
       "    <tr>\n",
       "      <th>coldplay</th>\n",
       "      <td>0.189496</td>\n",
       "    </tr>\n",
       "    <tr>\n",
       "      <th>bob dylan</th>\n",
       "      <td>0.159883</td>\n",
       "    </tr>\n",
       "    <tr>\n",
       "      <th>iron &amp; wine</th>\n",
       "      <td>0.158571</td>\n",
       "    </tr>\n",
       "  </tbody>\n",
       "</table>\n",
       "</div>"
      ],
      "text/plain": [
       "                            0\n",
       "the beatles          0.339517\n",
       "radiohead            0.327914\n",
       "death cab for cutie  0.267391\n",
       "beck                 0.232970\n",
       "modest mouse         0.226551\n",
       "sufjan stevens       0.209068\n",
       "the shins            0.207249\n",
       "coldplay             0.189496\n",
       "bob dylan            0.159883\n",
       "iron & wine          0.158571"
      ]
     },
     "execution_count": 248,
     "metadata": {},
     "output_type": "execute_result"
    }
   ],
   "source": [
    "df_ec.sort(0, ascending=False).head(10)"
   ]
  },
  {
   "cell_type": "code",
   "execution_count": 249,
   "metadata": {
    "collapsed": false
   },
   "outputs": [],
   "source": [
    "bmc = [x[0] for x in Counter(bc).most_common(50)]\n",
    "dmc = [x[0] for x in Counter(dc).most_common(50)]\n",
    "emc = [x[0] for x in Counter(ec).most_common(50)]"
   ]
  },
  {
   "cell_type": "code",
   "execution_count": 250,
   "metadata": {
    "collapsed": false
   },
   "outputs": [],
   "source": [
    "def difference(c1,c2):\n",
    "    union = list(set(c1) & set(c2))\n",
    "    intersect = list(set(c1) | set(c2))\n",
    "    return len(union) / len(intersect)"
   ]
  },
  {
   "cell_type": "code",
   "execution_count": 251,
   "metadata": {
    "collapsed": false
   },
   "outputs": [
    {
     "data": {
      "text/plain": [
       "0.2987012987012987"
      ]
     },
     "execution_count": 251,
     "metadata": {},
     "output_type": "execute_result"
    }
   ],
   "source": [
    "difference(bmc, dmc)"
   ]
  },
  {
   "cell_type": "code",
   "execution_count": 254,
   "metadata": {
    "collapsed": false,
    "scrolled": true
   },
   "outputs": [
    {
     "data": {
      "text/plain": [
       "['queen',\n",
       " 'the smiths',\n",
       " 'linkin park',\n",
       " 'explosions in the sky',\n",
       " 'simon & garfunkel',\n",
       " 'the strokes',\n",
       " 'justice',\n",
       " 'jimi hendrix',\n",
       " 'sonic youth',\n",
       " 'portishead',\n",
       " 'aphex twin',\n",
       " 'green day',\n",
       " 'stars',\n",
       " 'miles davis',\n",
       " 'r.e.m.',\n",
       " 'the beach boys',\n",
       " 'the magnetic fields',\n",
       " 'billy joel',\n",
       " 'tool',\n",
       " 'beastie boys',\n",
       " 'dashboard confessional',\n",
       " 'taking back sunday',\n",
       " 'the national',\n",
       " 'mgmt',\n",
       " 'wilco',\n",
       " 'ac/dc',\n",
       " 'air']"
      ]
     },
     "execution_count": 254,
     "metadata": {},
     "output_type": "execute_result"
    }
   ],
   "source": [
    "list(set(bmc) - set(dmc))"
   ]
  },
  {
   "cell_type": "code",
   "execution_count": 255,
   "metadata": {
    "collapsed": false
   },
   "outputs": [
    {
     "data": {
      "text/html": [
       "<div style=\"max-height:1000px;max-width:1500px;overflow:auto;\">\n",
       "<table border=\"1\" class=\"dataframe\">\n",
       "  <thead>\n",
       "    <tr style=\"text-align: right;\">\n",
       "      <th></th>\n",
       "      <th>0</th>\n",
       "    </tr>\n",
       "  </thead>\n",
       "  <tbody>\n",
       "    <tr>\n",
       "      <th>daft punk</th>\n",
       "      <td>0.016393</td>\n",
       "    </tr>\n",
       "  </tbody>\n",
       "</table>\n",
       "</div>"
      ],
      "text/plain": [
       "                  0\n",
       "daft punk  0.016393"
      ]
     },
     "execution_count": 255,
     "metadata": {},
     "output_type": "execute_result"
    }
   ],
   "source": [
    "df_bc.ix[df_bc.index.str.contains(\"daft\"),:]"
   ]
  },
  {
   "cell_type": "code",
   "execution_count": null,
   "metadata": {
    "collapsed": true
   },
   "outputs": [],
   "source": []
  }
 ],
 "metadata": {
  "kernelspec": {
   "display_name": "Python 2",
   "language": "python",
   "name": "python2"
  },
  "language_info": {
   "codemirror_mode": {
    "name": "ipython",
    "version": 2
   },
   "file_extension": ".py",
   "mimetype": "text/x-python",
   "name": "python",
   "nbconvert_exporter": "python",
   "pygments_lexer": "ipython2",
   "version": "2.7.10"
  }
 },
 "nbformat": 4,
 "nbformat_minor": 0
}
